{
 "cells": [
  {
   "cell_type": "markdown",
   "metadata": {},
   "source": [
    "# 2016 US Bike Share Activity Snapshot\n",
    "\n",
    "## Table of Contents\n",
    "- [Introduction](#intro)\n",
    "- [Posing Questions](#pose_questions)\n",
    "- [Data Collection and Wrangling](#wrangling)\n",
    "  - [Condensing the Trip Data](#condensing)\n",
    "- [Exploratory Data Analysis](#eda)\n",
    "  - [Statistics](#statistics)\n",
    "  - [Visualizations](#visualizations)\n",
    "- [Performing Your Own Analysis](#eda_continued)\n",
    "- [Conclusions](#conclusions)\n",
    "\n",
    "<a id='intro'></a>\n",
    "## Introduction\n",
    "\n",
    "> **Tip**: Quoted sections like this will provide helpful instructions on how to navigate and use a Jupyter notebook.\n",
    "\n",
    "Over the past decade, bicycle-sharing systems have been growing in number and popularity in cities across the world. Bicycle-sharing systems allow users to rent bicycles for short trips, typically 30 minutes or less. Thanks to the rise in information technologies, it is easy for a user of the system to access a dock within the system to unlock or return bicycles. These technologies also provide a wealth of data that can be used to explore how these bike-sharing systems are used.\n",
    "\n",
    "In this project, you will perform an exploratory analysis on data provided by [Motivate](https://www.motivateco.com/), a bike-share system provider for many major cities in the United States. You will compare the system usage between three large cities: New York City, Chicago, and Washington, DC. You will also see if there are any differences within each system for those users that are registered, regular users and those users that are short-term, casual users."
   ]
  },
  {
   "cell_type": "markdown",
   "metadata": {},
   "source": [
    "<a id='pose_questions'></a>\n",
    "## Posing Questions\n",
    "\n",
    "Before looking at the bike sharing data, you should start by asking questions you might want to understand about the bike share data. Consider, for example, if you were working for Motivate. What kinds of information would you want to know about in order to make smarter business decisions? If you were a user of the bike-share service, what factors might influence how you would want to use the service?"
   ]
  },
  {
   "cell_type": "markdown",
   "metadata": {},
   "source": [
    "### **Question 1**: \n",
    "\n",
    "Write at least two questions related to bike sharing that you think could be answered by data.\n",
    "\n",
    "**Answer**: \n",
    "\n",
    "From the point of view of a Motivate employee:\n",
    "\n",
    "1. Compare the usage at various stations throughout the city. Investigate the usage at every station, by comparing weekdays versus weekends, at different times of the day, and in correlation with weather factors, such as precipitation and temperature.\n",
    "\n",
    "2. Compare how the regular (subscription) users and the casual (day pass) users access the bike-share services. Are there any stations that are predominantly preferred by one type of users?\n",
    "\n",
    "3. Determine if the number of subscription, or casual users vary significantly with the season.\n",
    "\n",
    "3. Are there any correlations between the bike demands at various stations? Are there any routes that are more popular than others?\n",
    "\n",
    "From the point of view of a bike-share user.\n",
    "\n",
    "1. Find information about the usage, detailed on day and time, at a specific station or stations on a certain route.\n",
    "\n",
    "2. For a specific station find estimative data for the number of bikes that would be available on certain days, at various times.  \n"
   ]
  },
  {
   "cell_type": "markdown",
   "metadata": {},
   "source": [
    "> **Tip**: If you double click on this cell, you will see the text change so that all of the formatting is removed. This allows you to edit this block of text. This block of text is written using [Markdown](http://daringfireball.net/projects/markdown/syntax), which is a way to format text using headers, links, italics, and many other options using a plain-text syntax. You will also use Markdown later in the Nanodegree program. Use **Shift** + **Enter** or **Shift** + **Return** to run the cell and show its rendered form."
   ]
  },
  {
   "cell_type": "markdown",
   "metadata": {},
   "source": [
    "<a id='wrangling'></a>\n",
    "## Data Collection and Wrangling\n",
    "\n",
    "Now it's time to collect and explore our data. In this project, we will focus on the record of individual trips taken in 2016 from our selected cities: New York City, Chicago, and Washington, DC. Each of these cities has a page where we can freely download the trip data.:\n",
    "\n",
    "- New York City (Citi Bike): [Link](https://www.citibikenyc.com/system-data)\n",
    "- Chicago (Divvy): [Link](https://www.divvybikes.com/system-data)\n",
    "- Washington, DC (Capital Bikeshare): [Link](https://www.capitalbikeshare.com/system-data)\n",
    "\n",
    "If you visit these pages, you will notice that each city has a different way of delivering its data. Chicago updates with new data twice a year, Washington DC is quarterly, and New York City is monthly. **However, you do not need to download the data yourself.** The data has already been collected for you in the `/data/` folder of the project files. While the original data for 2016 is spread among multiple files for each city, the files in the `/data/` folder collect all of the trip data for the year into one file per city. Some data wrangling of inconsistencies in timestamp format within each city has already been performed for you. In addition, a random 2% sample of the original data is taken to make the exploration more manageable. "
   ]
  },
  {
   "cell_type": "markdown",
   "metadata": {},
   "source": [
    "### **Question 2**: \n",
    "\n",
    "However, there is still a lot of data for us to investigate, so it's a good idea to start off by looking at one entry from each of the cities we're going to analyze. Run the first code cell below to load some packages and functions that you'll be using in your analysis. Then, complete the second code cell to print out the first trip recorded from each of the cities (the second line of each data file)."
   ]
  },
  {
   "cell_type": "markdown",
   "metadata": {},
   "source": [
    "> **Tip**: You can run a code cell like you formatted Markdown cells above by clicking on the cell and using the keyboard shortcut **Shift** + **Enter** or **Shift** + **Return**. Alternatively, a code cell can be executed using the **Play** button in the toolbar after selecting it. While the cell is running, you will see an asterisk in the message to the left of the cell, i.e. `In [*]:`. The asterisk will change into a number to show that execution has completed, e.g. `In [1]`. If there is output, it will show up as `Out [1]:`, with an appropriate number to match the \"In\" number."
   ]
  },
  {
   "cell_type": "code",
   "execution_count": 1,
   "metadata": {
    "collapsed": true
   },
   "outputs": [],
   "source": [
    "## import all necessary packages and functions.\n",
    "import csv # read and write csv files\n",
    "from datetime import datetime as dt# operations to parse dates\n",
    "from pprint import pprint # use to print data structures like dictionaries in\n",
    "                          # a nicer way than the base print function."
   ]
  },
  {
   "cell_type": "code",
   "execution_count": 2,
   "metadata": {},
   "outputs": [
    {
     "name": "stdout",
     "output_type": "stream",
     "text": [
      "\n",
      "City: NYC\n",
      "OrderedDict([('tripduration', '839'),\n",
      "             ('starttime', '1/1/2016 00:09:55'),\n",
      "             ('stoptime', '1/1/2016 00:23:54'),\n",
      "             ('start station id', '532'),\n",
      "             ('start station name', 'S 5 Pl & S 4 St'),\n",
      "             ('start station latitude', '40.710451'),\n",
      "             ('start station longitude', '-73.960876'),\n",
      "             ('end station id', '401'),\n",
      "             ('end station name', 'Allen St & Rivington St'),\n",
      "             ('end station latitude', '40.72019576'),\n",
      "             ('end station longitude', '-73.98997825'),\n",
      "             ('bikeid', '17109'),\n",
      "             ('usertype', 'Customer'),\n",
      "             ('birth year', ''),\n",
      "             ('gender', '0')])\n",
      "\n",
      "City: Chicago\n",
      "OrderedDict([('trip_id', '9080545'),\n",
      "             ('starttime', '3/31/2016 23:30'),\n",
      "             ('stoptime', '3/31/2016 23:46'),\n",
      "             ('bikeid', '2295'),\n",
      "             ('tripduration', '926'),\n",
      "             ('from_station_id', '156'),\n",
      "             ('from_station_name', 'Clark St & Wellington Ave'),\n",
      "             ('to_station_id', '166'),\n",
      "             ('to_station_name', 'Ashland Ave & Wrightwood Ave'),\n",
      "             ('usertype', 'Subscriber'),\n",
      "             ('gender', 'Male'),\n",
      "             ('birthyear', '1990')])\n",
      "\n",
      "City: Washington\n",
      "OrderedDict([('Duration (ms)', '427387'),\n",
      "             ('Start date', '3/31/2016 22:57'),\n",
      "             ('End date', '3/31/2016 23:04'),\n",
      "             ('Start station number', '31602'),\n",
      "             ('Start station', 'Park Rd & Holmead Pl NW'),\n",
      "             ('End station number', '31207'),\n",
      "             ('End station', 'Georgia Ave and Fairmont St NW'),\n",
      "             ('Bike number', 'W20842'),\n",
      "             ('Member Type', 'Registered')])\n"
     ]
    }
   ],
   "source": [
    "def print_first_point(filename):\n",
    "    \"\"\"\n",
    "    This function prints and returns the first data point (second row) from\n",
    "    a csv file that includes a header row.\n",
    "    \"\"\"\n",
    "    # print city name for reference\n",
    "    city = filename.split('-')[0].split('/')[-1]\n",
    "    print('\\nCity: {}'.format(city))\n",
    "    \n",
    "    with open(filename, 'r') as f_in:\n",
    "        ## TODO: Use the csv library to set up a DictReader object. ##\n",
    "        ## see https://docs.python.org/3/library/csv.html           ##\n",
    "        trip_reader = csv.DictReader(f_in)\n",
    "        \n",
    "        ## TODO: Use a function on the DictReader object to read the     ##\n",
    "        ## first trip from the data file and store it in a variable.     ##\n",
    "        ## see https://docs.python.org/3/library/csv.html#reader-objects ##\n",
    "        first_trip = list(trip_reader)[0]\n",
    "    \n",
    "        \n",
    "        ## TODO: Use the pprint library to print the first trip. ##\n",
    "        ## see https://docs.python.org/3/library/pprint.html     ##\n",
    "        pprint(first_trip)\n",
    "        \n",
    "        \n",
    "    # output city name and first trip for later testing\n",
    "    return (city, first_trip)\n",
    "\n",
    "# list of files for each city\n",
    "data_files = ['./data/NYC-CitiBike-2016.csv',\n",
    "              './data/Chicago-Divvy-2016.csv',\n",
    "              './data/Washington-CapitalBikeshare-2016.csv',]\n",
    "\n",
    "# print the first trip from each file, store in dictionary\n",
    "example_trips = {}\n",
    "for data_file in data_files:\n",
    "    city, first_trip = print_first_point(data_file)\n",
    "    example_trips[city] = first_trip"
   ]
  },
  {
   "cell_type": "markdown",
   "metadata": {},
   "source": [
    "If everything has been filled out correctly, you should see below the printout of each city name (which has been parsed from the data file name) that the first trip has been parsed in the form of a dictionary. When you set up a `DictReader` object, the first row of the data file is normally interpreted as column names. Every other row in the data file will use those column names as keys, as a dictionary is generated for each row.\n",
    "\n",
    "This will be useful since we can refer to quantities by an easily-understandable label instead of just a numeric index. For example, if we have a trip stored in the variable `row`, then we would rather get the trip duration from `row['duration']` instead of `row[0]`.\n",
    "\n",
    "<a id='condensing'></a>\n",
    "### Condensing the Trip Data\n",
    "\n",
    "It should also be observable from the above printout that each city provides different information. Even where the information is the same, the column names and formats are sometimes different. To make things as simple as possible when we get to the actual exploration, we should trim and clean the data. Cleaning the data makes sure that the data formats across the cities are consistent, while trimming focuses only on the parts of the data we are most interested in to make the exploration easier to work with.\n",
    "\n",
    "You will generate new data files with five values of interest for each trip: trip duration, starting month, starting hour, day of the week, and user type. Each of these may require additional wrangling depending on the city:\n",
    "\n",
    "- **Duration**: This has been given to us in seconds (New York, Chicago) or milliseconds (Washington). A more natural unit of analysis will be if all the trip durations are given in terms of minutes.\n",
    "- **Month**, **Hour**, **Day of Week**: Ridership volume is likely to change based on the season, time of day, and whether it is a weekday or weekend. Use the start time of the trip to obtain these values. The New York City data includes the seconds in their timestamps, while Washington and Chicago do not. The [`datetime`](https://docs.python.org/3/library/datetime.html) package will be very useful here to make the needed conversions.\n",
    "- **User Type**: It is possible that users who are subscribed to a bike-share system will have different patterns of use compared to users who only have temporary passes. Washington divides its users into two types: 'Registered' for users with annual, monthly, and other longer-term subscriptions, and 'Casual', for users with 24-hour, 3-day, and other short-term passes. The New York and Chicago data uses 'Subscriber' and 'Customer' for these groups, respectively. For consistency, you will convert the Washington labels to match the other two."
   ]
  },
  {
   "cell_type": "markdown",
   "metadata": {},
   "source": [
    "### **Question 3a**: \n",
    "\n",
    "Complete the helper functions in the code cells below to address each of the cleaning tasks described above."
   ]
  },
  {
   "cell_type": "code",
   "execution_count": 3,
   "metadata": {
    "collapsed": true
   },
   "outputs": [],
   "source": [
    "def duration_in_mins(datum, city):\n",
    "    \"\"\"\n",
    "    Takes as input a dictionary containing info about a single trip (datum) and\n",
    "    its origin city (city) and returns the trip duration in units of minutes.\n",
    "    \n",
    "    Remember that Washington is in terms of milliseconds while Chicago and NYC\n",
    "    are in terms of seconds. \n",
    "    \n",
    "    HINT: The csv module reads in all of the data as strings, including numeric\n",
    "    values. You will need a function to convert the strings into an appropriate\n",
    "    numeric type when making your transformations.\n",
    "    see https://docs.python.org/3/library/functions.html\n",
    "    \"\"\"\n",
    "    \n",
    "    # YOUR CODE HERE\n",
    "    if city == 'NYC' or city == 'Chicago':\n",
    "        duration = int(datum['tripduration'])/60 \n",
    "    if city == 'Washington':\n",
    "        duration = int(datum['Duration (ms)'])/60000\n",
    "    \n",
    "    return duration\n",
    "\n",
    "\n",
    "# Some tests to check that your code works. There should be no output if all of\n",
    "# the assertions pass. The `example_trips` dictionary was obtained from when\n",
    "# you printed the first trip from each of the original data files.\n",
    "\n",
    "### These tests do not conform with the numerical values from the first trips\n",
    "tests = {'NYC': 13.9833,\n",
    "         'Chicago': 15.4333,\n",
    "         'Washington': 7.1231}\n",
    "\n",
    "for city in tests:\n",
    "    assert abs(duration_in_mins(example_trips[city], city) - tests[city]) < .001"
   ]
  },
  {
   "cell_type": "code",
   "execution_count": 4,
   "metadata": {
    "collapsed": true
   },
   "outputs": [],
   "source": [
    "def time_of_trip(datum, city):\n",
    "    \"\"\"\n",
    "    Takes as input a dictionary containing info about a single trip (datum) and\n",
    "    its origin city (city) and returns the month, hour, and day of the week in\n",
    "    which the trip was made.\n",
    "    \n",
    "    Remember that NYC includes seconds, while Washington and Chicago do not.\n",
    "    \n",
    "    HINT: You should use the datetime module to parse the original date\n",
    "    strings into a format that is useful for extracting the desired information.\n",
    "    see https://docs.python.org/3/library/datetime.html#strftime-and-strptime-behavior\n",
    "    \"\"\"\n",
    "    \n",
    "    if city == 'NYC':\n",
    "        ### Reads the date as a string from the dictionary.\n",
    "        date = datum['starttime'] \n",
    "        ### Takes the date as a string, and returns a Python datetime object. \n",
    "        dobject = dt.strptime(date, '%m/%d/%Y %H:%M:%S') \n",
    "    \n",
    "    if city == 'Chicago':\n",
    "        ### Reads the date as a string from the dictionary.\n",
    "        date = datum['starttime'] \n",
    "        ### Takes the date as a string, and returns a Python datetime object. \n",
    "        dobject = dt.strptime(date, '%m/%d/%Y %H:%M') \n",
    "        \n",
    "    if city == 'Washington':\n",
    "        ### Reads the date as a string from the dictionary.\n",
    "        date = datum['Start date']\n",
    "        ### Takes the date as a string, and returns a Python datetime object. \n",
    "        dobject = dt.strptime(date, '%m/%d/%Y %H:%M') \n",
    "        \n",
    "    ### Extracts the month from the datetime object, returns it as an integer.\n",
    "    month = int(dobject.strftime('%m'))\n",
    "    ### Extracts the hour from the datetime object, returns it as an integer.\n",
    "    hour = int(dobject.strftime('%H'))\n",
    "    ### Extracts the weekday from the datetime object, returns its full name.\n",
    "    day_of_week = dobject.strftime('%A')\n",
    "    \n",
    "    return (month, hour, day_of_week)\n",
    "\n",
    "\n",
    "# Some tests to check that your code works. There should be no output if all of\n",
    "# the assertions pass. The `example_trips` dictionary was obtained from when\n",
    "# you printed the first trip from each of the original data files.\n",
    "tests = {'NYC': (1, 0, 'Friday'),\n",
    "         'Chicago': (3, 23, 'Thursday'),\n",
    "         'Washington': (3, 22, 'Thursday')}\n",
    "\n",
    "for city in tests:\n",
    "    assert time_of_trip(example_trips[city], city) == tests[city]"
   ]
  },
  {
   "cell_type": "code",
   "execution_count": 5,
   "metadata": {
    "collapsed": true
   },
   "outputs": [],
   "source": [
    "def type_of_user(datum, city):\n",
    "    \"\"\"\n",
    "    Takes as input a dictionary containing info about a single trip (datum) and\n",
    "    its origin city (city) and returns the type of system user that made the\n",
    "    trip.\n",
    "    \n",
    "    Remember that Washington has different category names compared to Chicago\n",
    "    and NYC. \n",
    "    \"\"\"\n",
    "    \n",
    "    # YOUR CODE HERE\n",
    "    if city == 'NYC' or city == 'Chicago':\n",
    "        user_type = datum['usertype']\n",
    "    if city == 'Washington':\n",
    "        user_type = datum['Member Type']\n",
    "    \n",
    "    return user_type\n",
    "\n",
    "\n",
    "# Some tests to check that your code works. There should be no output if all of\n",
    "# the assertions pass. The `example_trips` dictionary was obtained from when\n",
    "# you printed the first trip from each of the original data files.\n",
    "tests = {'NYC': 'Customer',\n",
    "         'Chicago': 'Subscriber',\n",
    "         'Washington': 'Registered'} ### it was Subscriber, which I think it is incorrect.\n",
    "\n",
    "for city in tests:\n",
    "    assert type_of_user(example_trips[city], city) == tests[city]"
   ]
  },
  {
   "cell_type": "markdown",
   "metadata": {},
   "source": [
    "### **Question 3b**: \n",
    "\n",
    "Now, use the helper functions you wrote above to create a condensed data file for each city consisting only of the data fields indicated above. In the `/examples/` folder, you will see an example datafile from the [Bay Area Bike Share](http://www.bayareabikeshare.com/open-data) before and after conversion. Make sure that your output is formatted to be consistent with the example file."
   ]
  },
  {
   "cell_type": "code",
   "execution_count": 6,
   "metadata": {
    "collapsed": true
   },
   "outputs": [],
   "source": [
    "def condense_data(in_file, out_file, city):\n",
    "    \"\"\"\n",
    "    This function takes full data from the specified input file\n",
    "    and writes the condensed data to a specified output file. The city\n",
    "    argument determines how the input file will be parsed.\n",
    "    \n",
    "    HINT: See the cell below to see how the arguments are structured!\n",
    "    \"\"\"\n",
    "    \n",
    "    with open(out_file, 'w') as f_out, open(in_file, 'r') as f_in:\n",
    "        # set up csv DictWriter object - writer requires column names for the\n",
    "        # first row as the \"fieldnames\" argument\n",
    "        out_colnames = ['duration', 'month', 'hour', 'day_of_week', 'user_type']        \n",
    "        trip_writer = csv.DictWriter(f_out, fieldnames = out_colnames)\n",
    "        trip_writer.writeheader()\n",
    "         \n",
    "        ## TODO: set up csv DictReader object ##\n",
    "        trip_reader = csv.DictReader(f_in)\n",
    "\n",
    "        # collect data from and process each row\n",
    "        for row in trip_reader:\n",
    "            # set up a dictionary to hold the values for the cleaned and trimmed\n",
    "            # data point\n",
    "            new_point = {}\n",
    "\n",
    "            ## TODO: use the helper functions to get the cleaned data from  ##\n",
    "            ## the original data dictionaries.                              ##\n",
    "            ## Note that the keys for the new_point dictionary should match ##\n",
    "            ## the column names set in the DictWriter object above.         ##\n",
    "            \n",
    "            new_point['duration'] = duration_in_mins(row, city)\n",
    "            new_point['month'] = time_of_trip(row, city)[0]\n",
    "            new_point['hour'] = time_of_trip(row, city)[1]\n",
    "            new_point['day_of_week'] = time_of_trip(row, city)[2]\n",
    "            new_point['user_type'] = type_of_user(row, city)\n",
    "        \n",
    "\n",
    "            ## TODO: write the processed information to the output file.     ##\n",
    "            ## see https://docs.python.org/3/library/csv.html#writer-objects ##\n",
    "            \n",
    "            trip_writer.writerow(new_point)\n",
    "            "
   ]
  },
  {
   "cell_type": "code",
   "execution_count": 7,
   "metadata": {},
   "outputs": [
    {
     "name": "stdout",
     "output_type": "stream",
     "text": [
      "\n",
      "City: Washington\n",
      "OrderedDict([('duration', '7.123116666666666'),\n",
      "             ('month', '3'),\n",
      "             ('hour', '22'),\n",
      "             ('day_of_week', 'Thursday'),\n",
      "             ('user_type', 'Registered')])\n",
      "\n",
      "City: Chicago\n",
      "OrderedDict([('duration', '15.433333333333334'),\n",
      "             ('month', '3'),\n",
      "             ('hour', '23'),\n",
      "             ('day_of_week', 'Thursday'),\n",
      "             ('user_type', 'Subscriber')])\n",
      "\n",
      "City: NYC\n",
      "OrderedDict([('duration', '13.983333333333333'),\n",
      "             ('month', '1'),\n",
      "             ('hour', '0'),\n",
      "             ('day_of_week', 'Friday'),\n",
      "             ('user_type', 'Customer')])\n"
     ]
    }
   ],
   "source": [
    "# Run this cell to check your work\n",
    "city_info = {'Washington': {'in_file': './data/Washington-CapitalBikeshare-2016.csv',\n",
    "                            'out_file': './data/Washington-2016-Summary.csv'},\n",
    "             'Chicago': {'in_file': './data/Chicago-Divvy-2016.csv',\n",
    "                         'out_file': './data/Chicago-2016-Summary.csv'},\n",
    "             'NYC': {'in_file': './data/NYC-CitiBike-2016.csv',\n",
    "                     'out_file': './data/NYC-2016-Summary.csv'}}\n",
    "\n",
    "for city, filenames in city_info.items():\n",
    "    condense_data(filenames['in_file'], filenames['out_file'], city)\n",
    "    print_first_point(filenames['out_file'])"
   ]
  },
  {
   "cell_type": "markdown",
   "metadata": {},
   "source": [
    "> **Tip**: If you save a jupyter Notebook, the output from running code blocks will also be saved. However, the state of your workspace will be reset once a new session is started. Make sure that you run all of the necessary code blocks from your previous session to reestablish variables and functions before picking up where you last left off.\n",
    "\n",
    "<a id='eda'></a>\n",
    "## Exploratory Data Analysis\n",
    "\n",
    "Now that you have the data collected and wrangled, you're ready to start exploring the data. In this section you will write some code to compute descriptive statistics from the data. You will also be introduced to the `matplotlib` library to create some basic histograms of the data.\n",
    "\n",
    "<a id='statistics'></a>\n",
    "### Statistics\n",
    "\n",
    "First, let's compute some basic counts. The first cell below contains a function that uses the csv module to iterate through a provided data file, returning the number of trips made by subscribers and customers. The second cell runs this function on the example Bay Area data in the `/examples/` folder. Modify the cells to answer the question below."
   ]
  },
  {
   "cell_type": "code",
   "execution_count": 8,
   "metadata": {
    "collapsed": true
   },
   "outputs": [],
   "source": [
    "def number_of_trips(filename):\n",
    "    \"\"\"\n",
    "    This function reads in a file with trip data and reports the number of\n",
    "    trips made by subscribers, customers, and total overall.\n",
    "    \"\"\"\n",
    "    with open(filename, 'r') as f_in:\n",
    "        # set up csv reader object\n",
    "        reader = csv.DictReader(f_in)\n",
    "        \n",
    "        # initialize count variables\n",
    "        n_subscribers = 0\n",
    "        n_customers = 0\n",
    "        \n",
    "        # tally up ride types\n",
    "        for row in reader:\n",
    "            if row['user_type'] == 'Subscriber':\n",
    "                n_subscribers += 1\n",
    "            else:\n",
    "                n_customers += 1\n",
    "        \n",
    "        # compute total number of rides\n",
    "        n_total = n_subscribers + n_customers\n",
    "        \n",
    "        # return tallies as a tuple\n",
    "        return(n_subscribers, n_customers, n_total)"
   ]
  },
  {
   "cell_type": "code",
   "execution_count": 9,
   "metadata": {},
   "outputs": [
    {
     "name": "stdout",
     "output_type": "stream",
     "text": [
      "(5666, 633, 6299)\n"
     ]
    }
   ],
   "source": [
    "## Modify this and the previous cell to answer Question 4a. Remember to run ##\n",
    "## the function on the cleaned data files you created from Question 3.      ##\n",
    "\n",
    "data_file = './examples/BayArea-Y3-Summary.csv'\n",
    "print(number_of_trips(data_file))"
   ]
  },
  {
   "cell_type": "code",
   "execution_count": 10,
   "metadata": {
    "collapsed": true
   },
   "outputs": [],
   "source": [
    "### Collect together the information about each city in a list.\n",
    "### Include the city name, the term used for subscription customers and the cleaned data file.\n",
    "\n",
    "city_files = [['Washington', 'Registered', './data/Washington-2016-Summary.csv'],\n",
    "             ['Chicago', 'Subscriber', './data/Chicago-2016-Summary.csv'],\n",
    "             ['New York', 'Subscriber', './data/NYC-2016-Summary.csv']]"
   ]
  },
  {
   "cell_type": "code",
   "execution_count": 11,
   "metadata": {
    "collapsed": true
   },
   "outputs": [],
   "source": [
    "### Change the function 'number_of_trips' to allow to work with any of the cities in the list\n",
    "### and to compute the proportions of trips made by subscribers and short-term customers.\n",
    "\n",
    "def number_of_trips_updated(filename, user):\n",
    "    \"\"\"\n",
    "    This function reads in a file with trip data and reports the number of\n",
    "    trips made by subscribers, customers, and total overall.\n",
    "    \"\"\"\n",
    "        \n",
    "    with open(filename, 'r') as f_in:\n",
    "        # set up csv reader object\n",
    "        reader = csv.DictReader(f_in)\n",
    "        \n",
    "        # initialize count variables\n",
    "        n_subscribers = 0\n",
    "        n_customers = 0\n",
    "        \n",
    "        # tally up ride types\n",
    "        for row in reader:\n",
    "            if row['user_type'] == user:\n",
    "                n_subscribers += 1\n",
    "            else:\n",
    "                n_customers += 1\n",
    "        \n",
    "        # compute total number of rides\n",
    "        n_total = n_subscribers + n_customers\n",
    "        \n",
    "        # compute the proportion of trips made by subscribers, rounded to 3 decimals\n",
    "        subscribers_proportion = round(n_subscribers / n_total, 3)\n",
    "        \n",
    "        # return tallies as a tuple\n",
    "        return(n_subscribers, n_customers, n_total, subscribers_proportion)"
   ]
  },
  {
   "cell_type": "code",
   "execution_count": 12,
   "metadata": {},
   "outputs": [
    {
     "name": "stdout",
     "output_type": "stream",
     "text": [
      "The number of trips made by subscribers, customers, the total overall and \n",
      "the proportion of trips made by the subscribers are:\n",
      "\n",
      "For Washington: (51753, 14573, 66326, 0.78)\n",
      "For Chicago: (54982, 17149, 72131, 0.762)\n",
      "For New York: (245896, 30902, 276798, 0.888)\n"
     ]
    }
   ],
   "source": [
    "### Print the infomation for each city.\n",
    "\n",
    "print('The number of trips made by subscribers, customers, the total overall and \\n'\n",
    "      'the proportion of trips made by the subscribers are:')\n",
    "print(\"\" )\n",
    "\n",
    "for entry in city_files:\n",
    "    print('For {}: {}'.format(entry[0], number_of_trips_updated(entry[2], entry[1])))"
   ]
  },
  {
   "cell_type": "markdown",
   "metadata": {},
   "source": [
    "### **Question 4a**: \n",
    "\n",
    "Which city has the highest number of trips? Which city has the highest proportion of trips made by subscribers? Which city has the highest proportion of trips made by short-term customers?\n",
    "\n",
    "**Answer**: \n",
    "\n",
    "    1. The city with the highest number of trips is New York City.\n",
    "    2. The highest proportion of trips made by Subscribers is found in New York City. \n",
    "    3. The highest proportion of trips made by short-term Customers is found in Chicago."
   ]
  },
  {
   "cell_type": "markdown",
   "metadata": {},
   "source": [
    "> **Tip**: In order to add additional cells to a notebook, you can use the \"Insert Cell Above\" and \"Insert Cell Below\" options from the menu bar above. There is also an icon in the toolbar for adding new cells, with additional icons for moving the cells up and down the document. By default, new cells are of the code type; you can also specify the cell type (e.g. Code or Markdown) of selected cells from the Cell menu or the dropdown in the toolbar.\n",
    "\n",
    "Now, you will write your own code to continue investigating properties of the data.\n"
   ]
  },
  {
   "cell_type": "code",
   "execution_count": 13,
   "metadata": {
    "collapsed": true,
    "scrolled": true
   },
   "outputs": [],
   "source": [
    "## Use this and additional cells to answer Question 4b.                 ##\n",
    "##                                                                      ##\n",
    "## HINT: The csv module reads in all of the data as strings, including  ##\n",
    "## numeric values. You will need a function to convert the strings      ##\n",
    "## into an appropriate numeric type before you aggregate data.          ##\n",
    "## TIP: For the Bay Area example, the average trip length is 14 minutes ##\n",
    "## and 3.5% of trips are longer than 30 minutes.                        ##\n",
    "\n"
   ]
  },
  {
   "cell_type": "code",
   "execution_count": 14,
   "metadata": {
    "collapsed": true
   },
   "outputs": [],
   "source": [
    "def average_duration(filename, city):\n",
    "    \"\"\"\n",
    "    This function reads in a file with trip data and the corresponding city, \n",
    "    and reports average duration \n",
    "    and the percentage of trips that are longer than 30 minutes.\n",
    "    \"\"\"\n",
    "        \n",
    "    with open(filename, 'r') as f_in:\n",
    "        # set up csv reader object\n",
    "        reader = csv.DictReader(f_in)\n",
    "        \n",
    "        # initialize count variables\n",
    "        tot_duration = 0\n",
    "        longer_trips = 0\n",
    "        \n",
    "        # get the sum of all trip durations and the number of trips loger than 30 minutes\n",
    "        # round to 3 decimals\n",
    "        for row in reader:\n",
    "            tot_duration = tot_duration + round(float(row['duration']),3)\n",
    "            if float(row['duration']) > 30:\n",
    "                longer_trips = longer_trips + 1\n",
    "        \n",
    "        # get the total number of rides, using a previously defined function\n",
    "        for entry in city_files:\n",
    "            if city ==entry[0]: \n",
    "                n_total = number_of_trips_updated(filename, entry[1])[2]\n",
    "        \n",
    "        \n",
    "        # return the average duration and the proportion of trips loger than 30 minutes \n",
    "        return(round(tot_duration/n_total, 3), round(longer_trips/n_total, 3))\n",
    "    "
   ]
  },
  {
   "cell_type": "markdown",
   "metadata": {},
   "source": [
    "### **Question 4b**: \n",
    "\n",
    "Bike-share systems are designed for riders to take short trips. Most of the time, users are allowed to take trips of 30 minutes or less with no additional charges, with overage charges made for trips of longer than that duration. What is the average trip length for each city? What proportion of rides made in each city are longer than 30 minutes?\n",
    "\n",
    "**Answer**: "
   ]
  },
  {
   "cell_type": "code",
   "execution_count": 15,
   "metadata": {},
   "outputs": [
    {
     "name": "stdout",
     "output_type": "stream",
     "text": [
      "The average trip length for each city, followed by \n",
      "the proportion of rides made in each city that are longer than 30 minutes:\n",
      "\n",
      "For Washington: (18.933, 0.108)\n",
      "For Chicago: (16.564, 0.083)\n",
      "For New York: (15.813, 0.073)\n"
     ]
    }
   ],
   "source": [
    "### print the output from the function 'average_duration' for each city\n",
    "print('The average trip length for each city, followed by \\n'\n",
    "      'the proportion of rides made in each city that are longer than 30 minutes:')\n",
    "print(\"\")\n",
    "\n",
    "for entry in city_files:\n",
    "    print('For {}: {}'.format(entry[0], average_duration(entry[2], entry[0])))"
   ]
  },
  {
   "cell_type": "markdown",
   "metadata": {},
   "source": [
    "### **Question 4c**: \n",
    "\n",
    "Dig deeper into the question of trip duration based on ridership. Choose one city. Within that city, which type of user takes longer rides on average: Subscribers or Customers?"
   ]
  },
  {
   "cell_type": "code",
   "execution_count": 16,
   "metadata": {
    "collapsed": true
   },
   "outputs": [],
   "source": [
    "## Use this and additional cells to answer Question 4c. If you have    ##\n",
    "## not done so yet, consider revising some of your previous code to    ##\n",
    "## make use of functions for reusability.                              ##\n",
    "##                                                                     ##\n",
    "## TIP: For the Bay Area example data, you should find the average     ##\n",
    "## Subscriber trip duration to be 9.5 minutes and the average Customer ##\n",
    "## trip duration to be 54.6 minutes. Do the other cities have this     ##\n",
    "## level of difference?                                                ##\n",
    "\n"
   ]
  },
  {
   "cell_type": "code",
   "execution_count": 17,
   "metadata": {
    "collapsed": true
   },
   "outputs": [],
   "source": [
    "def average_duration_split(city, user, filename):\n",
    "    \"\"\"\n",
    "    This function reads an entry in city_files and reports \n",
    "    the average length for trips made by subscribers and\n",
    "    the average trip length for trips made by short term customers.\n",
    "    \"\"\"\n",
    "        \n",
    "    with open(filename, 'r') as f_in:\n",
    "        # set up csv reader object\n",
    "        reader = csv.DictReader(f_in)\n",
    "        \n",
    "        # initialize count variables\n",
    "        duration_subscriber = 0\n",
    "        duration_customer = 0\n",
    "        \n",
    "        # find totals for trips durations, by user type\n",
    "        for row in reader:\n",
    "            if row['user_type'] == user:\n",
    "                duration_subscriber = duration_subscriber + round(float(row['duration']),3)\n",
    "            else:\n",
    "                duration_customer = duration_customer + round(float(row['duration']),3)\n",
    "        \n",
    "        # get total number of rides for each type of rider\n",
    "        for entry in city_files:\n",
    "            if city == entry[0]: \n",
    "                n_subscribers = number_of_trips_updated(entry[2], entry[1])[0]\n",
    "                n_customers = number_of_trips_updated(entry[2], entry[1])[1]\n",
    "        \n",
    "        # return the averages as a tuple\n",
    "        return(round(duration_subscriber/n_subscribers,3), round(duration_customer/n_customers,3))\n",
    "    "
   ]
  },
  {
   "cell_type": "code",
   "execution_count": 18,
   "metadata": {},
   "outputs": [
    {
     "name": "stdout",
     "output_type": "stream",
     "text": [
      "The average trip length for each city, split by type of users,\n",
      "for Subscribers and for short-term Customers:\n",
      "\n",
      "For Washington: (12.528, 41.678)\n",
      "For Chicago: (12.067, 30.98)\n",
      "For New York: (13.681, 32.776)\n"
     ]
    }
   ],
   "source": [
    "### print the information obtained from average_duration_split function for each city\n",
    "print('The average trip length for each city, split by type of users,\\n'\n",
    "      'for Subscribers and for short-term Customers:')\n",
    "print(\"\")\n",
    "\n",
    "for entry in city_files:\n",
    "    print('For {}: {}'.format(entry[0], average_duration_split(entry[0], entry[1], entry[2])))"
   ]
  },
  {
   "cell_type": "markdown",
   "metadata": {},
   "source": [
    "**Answer to Question 4c**: \n",
    "\n",
    "The Customers take in average trips that are much longer (two to three times) than the trips taken by Subscribers. In particular, for New York City the ratio trip length for Customers vs. trip length for Subscribers is about $2.4$."
   ]
  },
  {
   "cell_type": "markdown",
   "metadata": {},
   "source": [
    "<a id='visualizations'></a>\n",
    "### Visualizations\n",
    "\n",
    "The last set of values that you computed should have pulled up an interesting result. While the mean trip time for Subscribers is well under 30 minutes, the mean trip time for Customers is actually _above_ 30 minutes! It will be interesting for us to look at how the trip times are distributed. In order to do this, a new library will be introduced here, `matplotlib`. Run the cell below to load the library and to generate an example plot."
   ]
  },
  {
   "cell_type": "code",
   "execution_count": 19,
   "metadata": {},
   "outputs": [
    {
     "data": {
      "image/png": "[encoded data removed]",
      "text/plain": [
       "<matplotlib.figure.Figure at 0x7f94606b3828>"
      ]
     },
     "metadata": {},
     "output_type": "display_data"
    }
   ],
   "source": [
    "# load library\n",
    "import matplotlib.pyplot as plt\n",
    "\n",
    "# this is a 'magic word' that allows for plots to be displayed\n",
    "# inline with the notebook. If you want to know more, see:\n",
    "# http://ipython.readthedocs.io/en/stable/interactive/magics.html\n",
    "%matplotlib inline \n",
    "\n",
    "# example histogram, data taken from bay area sample\n",
    "data = [ 7.65,  8.92,  7.42,  5.50, 16.17,  4.20,  8.98,  9.62, 11.48, 14.33,\n",
    "        19.02, 21.53,  3.90,  7.97,  2.62,  2.67,  3.08, 14.40, 12.90,  7.83,\n",
    "        25.12,  8.30,  4.93, 12.43, 10.60,  6.17, 10.88,  4.78, 15.15,  3.53,\n",
    "         9.43, 13.32, 11.72,  9.85,  5.22, 15.10,  3.95,  3.17,  8.78,  1.88,\n",
    "         4.55, 12.68, 12.38,  9.78,  7.63,  6.45, 17.38, 11.90, 11.52,  8.63,]\n",
    "plt.hist(data)\n",
    "plt.title('Distribution of Trip Durations')\n",
    "plt.xlabel('Duration (m)')\n",
    "plt.show()"
   ]
  },
  {
   "cell_type": "markdown",
   "metadata": {},
   "source": [
    "In the above cell, we collected fifty trip times in a list, and passed this list as the first argument to the `.hist()` function. This function performs the computations and creates plotting objects for generating a histogram, but the plot is actually not rendered until the `.show()` function is executed. The `.title()` and `.xlabel()` functions provide some labeling for plot context.\n",
    "\n",
    "You will now use these functions to create a histogram of the trip times for the city you selected in question 4c. Don't separate the Subscribers and Customers for now: just collect all of the trip times and plot them."
   ]
  },
  {
   "cell_type": "code",
   "execution_count": 20,
   "metadata": {},
   "outputs": [
    {
     "data": {
      "image/png": "[encoded data removed]",
      "text/plain": [
       "<matplotlib.figure.Figure at 0x7f9432152d30>"
      ]
     },
     "metadata": {},
     "output_type": "display_data"
    }
   ],
   "source": [
    "## Use this and additional cells to collect all of the trip times as a list ##\n",
    "## and then use pyplot functions to generate a histogram of trip times.     ##\n",
    "\n",
    "### use the data for New York City\n",
    "\n",
    "with open(city_files[2][2], 'r') as f_in:\n",
    "    # set up csv reader object\n",
    "    reader = list(csv.DictReader(f_in))\n",
    "        \n",
    "### create an empty list for the data to be saved in\n",
    "data_TN = []\n",
    "\n",
    "### save all the trip durations, as float numbers in a list\n",
    "for i in range(0, len(reader)):\n",
    "    data_TN.append(float(reader[i]['duration']))\n",
    "            \n",
    "### a naive histogram of the trip durations, all riders in NYC \n",
    "\n",
    "plt.hist(data_TN)\n",
    "\n",
    "### title and axes labelling\n",
    "plt.title('\\n Distribution of Trip Durations - NYC \\n', fontsize=18)\n",
    "plt.xlabel('Duration (m)', fontsize = 15)\n",
    "plt.ylabel('Number of Trips', fontsize = 15)\n",
    "\n",
    "plt.show()"
   ]
  },
  {
   "cell_type": "markdown",
   "metadata": {},
   "source": [
    "If you followed the use of the `.hist()` and `.show()` functions exactly like in the example, you're probably looking at a plot that's completely unexpected. The plot consists of one extremely tall bar on the left, maybe a very short second bar, and a whole lot of empty space in the center and right. Take a look at the duration values on the x-axis. This suggests that there are some highly infrequent outliers in the data. Instead of reprocessing the data, you will use additional parameters with the `.hist()` function to limit the range of data that is plotted. Documentation for the function can be found [[here]](https://matplotlib.org/devdocs/api/_as_gen/matplotlib.pyplot.hist.html#matplotlib.pyplot.hist)."
   ]
  },
  {
   "cell_type": "markdown",
   "metadata": {
    "collapsed": true
   },
   "source": [
    "### **Question 5**: \n",
    "\n",
    "Use the parameters of the `.hist()` function to plot the distribution of trip times for the Subscribers in your selected city. Do the same thing for only the Customers. Add limits to the plots so that only trips of duration less than 75 minutes are plotted. As a bonus, set the plots up so that bars are in five-minute wide intervals. For each group, where is the peak of each distribution? How would you describe the shape of each distribution?"
   ]
  },
  {
   "cell_type": "markdown",
   "metadata": {},
   "source": [
    "**Answers to Question 5**: \n",
    "\n",
    "\n",
    "* Both distributions are positively skewed. \n",
    "\n",
    "\n",
    "* The skewness coefficients are computed below for the two sets of data, the one for Subscribers is much larger. Note: these coefficients are calculated for the entire data, while the histograms show the data for trips with duration of less than $75$ minutes. The difference between these two values indicates, for example, that for Subscribers the interval of the trip durations is much larger than for Customers. \n",
    "\n",
    "\n",
    "* Boxplot representations for the trip durations are given below. The maximum value for the trip durations for Subscribers is $39396$ (which can be also observed as a single outlier on the right, on the boxplot) while the maximum for Customers is $12099$, hence the large difference between the two skewness coefficients mentioned above. On boxplots the outliers are better depicted.\n",
    "\n",
    "\n",
    "* For Subscribers the peak of the distribution is in the interval between $5$ and $10$ minutes. Most of the Subscribers take shorter trips of $25$ minutes or less.\n",
    "\n",
    "\n",
    "* For the Customers the largest number of trips are $20$ to $25$ minutes long, most of the trips are between $10$ and $30$ minutes long. Customers tend to take longer trips than the Subscribers."
   ]
  },
  {
   "cell_type": "code",
   "execution_count": 21,
   "metadata": {
    "collapsed": true
   },
   "outputs": [],
   "source": [
    "## Use this and additional cells to answer Question 5. ##\n",
    "\n",
    "def durations_list(entry):\n",
    "    \"\"\"\n",
    "    This function reads an entry in city_files and creates three lists,\n",
    "    one with the trip durations for all bike-share riders, one for the subscribers,\n",
    "    the last one for the short-term customers.\n",
    "    \"\"\"\n",
    "    with open(entry[2], 'r') as f_in:\n",
    "        # set up csv reader object\n",
    "        reader = list(csv.DictReader(f_in))\n",
    "        \n",
    "        # create empty lists for the data to be saved in\n",
    "        dataT = [] ### for all riders\n",
    "        dataS = [] ### for Subscribers\n",
    "        dataC = [] ### for Customers\n",
    "        \n",
    "        # save the data in lists whose entries are float numbers\n",
    "        for i in range(0, len(reader)):\n",
    "            # all the riders\n",
    "            dataT.append(float(reader[i]['duration']))\n",
    "            # subscribers and customers    \n",
    "            if reader[i]['user_type'] == entry[1]:\n",
    "                dataS.append(float(reader[i]['duration']))\n",
    "            else:\n",
    "                dataC.append(float(reader[i]['duration']))\n",
    "        # return a tuple of three lists\n",
    "        return(dataT, dataS, dataC)            \n"
   ]
  },
  {
   "cell_type": "code",
   "execution_count": 22,
   "metadata": {
    "collapsed": true
   },
   "outputs": [],
   "source": [
    "### The data in list format for New York City\n",
    "\n",
    "data_TN = durations_list(city_files[2])[0] ### all riders in NYC area\n",
    "data_SN = durations_list(city_files[2])[1] ### Subscribers in NYC area\n",
    "data_CN = durations_list(city_files[2])[2] ### Customers in NYC area"
   ]
  },
  {
   "cell_type": "code",
   "execution_count": 23,
   "metadata": {},
   "outputs": [
    {
     "data": {
      "image/png": "[encoded data removed]",
      "text/plain": [
       "<matplotlib.figure.Figure at 0x7f9431a95cf8>"
      ]
     },
     "metadata": {},
     "output_type": "display_data"
    }
   ],
   "source": [
    "\"\"\"\n",
    "Adjust the parameters in .hist() and use styling options to improve \n",
    "the representation of the histogram, with the data split between \n",
    "Subscribers and Customers (i.e. short-term users).\n",
    "\n",
    "\"\"\"\n",
    "\n",
    "### set the bins at 5 minutes intervals\n",
    "bin5=[0, 5,10,15, 20, 25, 30, 35, 40, 45, 50, 55, 60, 65, 70, 75]\n",
    "\n",
    "### adjust the size and the appearance of the output\n",
    "plt.figure(figsize=(40, 12), dpi=40, linewidth=2, frameon=True)\n",
    "\n",
    "\n",
    "### use subplots in the same figure, the two histograms will print out side by side\n",
    "### the first subplot\n",
    "plt.subplot(1,2,1)\n",
    "\n",
    "### the histogram for Subscribers\n",
    "### use a logarithmic scale, the output shows more details than the linear one\n",
    "plt.hist(data_SN, facecolor='b', alpha=0.70, bins=bin5, rwidth=0.75, log = True)\n",
    "\n",
    "### title and labels \n",
    "plt.title('\\n Distribution of Trip Durations - Subscribers - NYC \\n', fontsize = 36)\n",
    "plt.xlabel('Duration (m)', fontsize = 28)\n",
    "plt.ylabel('Number of Trips', fontsize = 28)\n",
    "\n",
    "### set limits for the x-axis from 0 to 75 min, with bins set at 5 min intervals\n",
    "### y-axis limits are chosen based on the highest bar in the histogram\n",
    "plt.axis([1, 75, 1, 200000])\n",
    "plt.xticks(bin5, fontsize = 20)\n",
    "plt.yticks(fontsize = 24)\n",
    "\n",
    "### the second subplot\n",
    "plt.subplot(1,2,2)\n",
    "\n",
    "### the histogram for Customers\n",
    "### use a linear scale \n",
    "plt.hist(data_CN, facecolor='g', alpha=0.70, bins=bin5, rwidth=0.75, log = False)\n",
    "\n",
    "### title and labels \n",
    "plt.title('\\n Distribution of Trip Durations - Customers - NYC \\n', fontsize = 36)\n",
    "plt.xlabel('Duration (m)', fontsize = 28)\n",
    "plt.ylabel('Number of Trips', fontsize = 28)\n",
    "\n",
    "### set limits for the x-axis from 0 to 75 min, with bins set at 5 min intervals\n",
    "### y-axis limits are chosen based on the highest bar in the histogram\n",
    "plt.axis([1, 75, 1, 6000])\n",
    "plt.xticks(bin5, fontsize = 20)\n",
    "plt.yticks(fontsize = 24)\n",
    "\n",
    "plt.show()\n"
   ]
  },
  {
   "cell_type": "code",
   "execution_count": 24,
   "metadata": {},
   "outputs": [
    {
     "name": "stdout",
     "output_type": "stream",
     "text": [
      "Skewness of the Distribution for Subscribers (NYC): 285.48\n",
      "Skewness of the Distribution for Customers (NYC): 43.23\n"
     ]
    }
   ],
   "source": [
    "### import skew from the stats package\n",
    "from scipy.stats import skew\n",
    "\n",
    "### compute the skewness for the trip durations sets of data for \n",
    "### Subscribers and Customers in New York City\n",
    "\n",
    "### Remark: this coefficient is calculated for the entire list of entries,\n",
    "### not only for the trips with duration smaller than 75 minutes\n",
    "\n",
    "print('Skewness of the Distribution for Subscribers (NYC): {}'.format(round(skew(data_SN),2)))\n",
    "print('Skewness of the Distribution for Customers (NYC): {}'.format(round(skew(data_CN),2)))\n"
   ]
  },
  {
   "cell_type": "markdown",
   "metadata": {},
   "source": [
    "#### Further analysis for New York City"
   ]
  },
  {
   "cell_type": "code",
   "execution_count": 25,
   "metadata": {},
   "outputs": [
    {
     "name": "stdout",
     "output_type": "stream",
     "text": [
      "Maximum value for the trip durations for Subscribers in NYC: 39395.96666666667\n",
      "Maximum value for the trip durations for Customers in NYC: 12099.15\n",
      "\n",
      "Number of trips longer than 75 min for Subscribers in NYC: 644\n",
      "This represents 0.26% of the trips made by Subscribers\n",
      "\n",
      "Number of trips longer than 75 min for Customers in NYC: 1298\n",
      "This represents 4.2% of the trips made by Customers\n"
     ]
    }
   ],
   "source": [
    "### find the maximum values in each list\n",
    "\n",
    "print('Maximum value for the trip durations for Subscribers in NYC: {}'.format(max(data_SN)))\n",
    "print('Maximum value for the trip durations for Customers in NYC: {}'.format(max(data_CN)))\n",
    "\n",
    "print(\"\")\n",
    "### determine how many trip durations are longer than 75 minutes\n",
    "\n",
    "### for Subscribers\n",
    "long_SN=[]\n",
    "for entry in data_SN:\n",
    "    if entry > 75:\n",
    "        long_SN.append(entry)\n",
    "print('Number of trips longer than 75 min for Subscribers in NYC: {}'.format(len(long_SN)))\n",
    "\n",
    "### percentage of trips longer than 75 min for Subscribers\n",
    "per_SN = round(100*len(long_SN)/len(data_SN),2)\n",
    "print('This represents {}% of the trips made by Subscribers'.format(per_SN))\n",
    "\n",
    "print(\"\")\n",
    "### for Customers\n",
    "long_CN=[]\n",
    "for entry in data_CN:\n",
    "    if entry > 75:\n",
    "        long_CN.append(entry)\n",
    "print('Number of trips longer than 75 min for Customers in NYC: {}'.format(len(long_CN)))\n",
    "\n",
    "### percentage of trips longer than 75 min for Subscribers\n",
    "per_CN = round(100*len(long_CN)/len(data_CN),2)\n",
    "print('This represents {}% of the trips made by Customers'.format(per_CN))"
   ]
  },
  {
   "cell_type": "code",
   "execution_count": 26,
   "metadata": {},
   "outputs": [
    {
     "data": {
      "image/png": "[encoded data removed]",
      "text/plain": [
       "<matplotlib.figure.Figure at 0x7f942a6401d0>"
      ]
     },
     "metadata": {},
     "output_type": "display_data"
    },
    {
     "data": {
      "image/png": "[encoded data removed]",
      "text/plain": [
       "<matplotlib.figure.Figure at 0x7f942a2e1550>"
      ]
     },
     "metadata": {},
     "output_type": "display_data"
    }
   ],
   "source": [
    "'''\n",
    "Create boxplots to investigate the number and the spread of the the outliers\n",
    "in the distribution of trip durations for both Subscribers and Customers \n",
    "in NYC. The above values suggest that a logarithmic scale would be better \n",
    "suited for this data.\n",
    "\n",
    "'''\n",
    "from math import log\n",
    "\n",
    "### logarithmic data for Subscribers\n",
    "dataSN = [log(x,10) for x in data_SN]\n",
    "\n",
    "### logarithmic data for Customers\n",
    "dataCN = [log(x,10) for x in data_CN]\n",
    "\n",
    "plt.figure(figsize=(40, 12), dpi=40, linewidth=4, frameon=True)\n",
    "\n",
    "### title and ticks  \n",
    "plt.title('\\n Boxplot for Trip Durations - Subscribers - NYC \\n', fontsize = 32)\n",
    "plt.xticks(fontsize = 30)\n",
    "plt.yticks(fontsize = 30)\n",
    "\n",
    "### the boxplot\n",
    "plt.boxplot(dataSN, sym='bD', vert=False, widths=.3, patch_artist=True, showfliers=True)\n",
    "\n",
    "plt.show()\n",
    "\n",
    "plt.figure(figsize=(40, 12), dpi=40, linewidth=4, frameon=True)\n",
    "\n",
    "### title and ticks  \n",
    "plt.title('\\n Boxplot for Trip Durations - Customers - NYC \\n', fontsize = 32)\n",
    "plt.xticks(fontsize = 30)\n",
    "plt.yticks(fontsize = 30)\n",
    "\n",
    "### the boxplot\n",
    "plt.boxplot(dataCN, sym='bs', vert=False, widths=.3, patch_artist=True, showfliers=True)\n",
    "\n",
    "plt.show()\n"
   ]
  },
  {
   "cell_type": "markdown",
   "metadata": {
    "collapsed": true
   },
   "source": [
    "<a id='eda_continued'></a>\n",
    "## Performing Your Own Analysis\n",
    "\n",
    "So far, you've performed an initial exploration into the data available. You have compared the relative volume of trips made between three U.S. cities and the ratio of trips made by Subscribers and Customers. For one of these cities, you have investigated differences between Subscribers and Customers in terms of how long a typical trip lasts. Now it is your turn to continue the exploration in a direction that you choose. Here are a few suggestions for questions to explore:\n",
    "\n",
    "- How does ridership differ by month or season? Which month / season has the highest ridership? Does the ratio of Subscriber trips to Customer trips change depending on the month or season?\n",
    "- Is the pattern of ridership different on the weekends versus weekdays? On what days are Subscribers most likely to use the system? What about Customers? Does the average duration of rides change depending on the day of the week?\n",
    "- During what time of day is the system used the most? Is there a difference in usage patterns for Subscribers and Customers?\n",
    "\n",
    "If any of the questions you posed in your answer to question 1 align with the bullet points above, this is a good opportunity to investigate one of them. As part of your investigation, you will need to create a visualization. If you want to create something other than a histogram, then you might want to consult the [Pyplot documentation](https://matplotlib.org/devdocs/api/pyplot_summary.html). In particular, if you are plotting values across a categorical variable (e.g. city, user type), a bar chart will be useful. The [documentation page for `.bar()`](https://matplotlib.org/devdocs/api/_as_gen/matplotlib.pyplot.bar.html#matplotlib.pyplot.bar) includes links at the bottom of the page with examples for you to build off of for your own use."
   ]
  },
  {
   "cell_type": "markdown",
   "metadata": {
    "collapsed": true
   },
   "source": [
    "### **Question 6**: \n",
    "\n",
    "Continue the investigation by exploring another question that could be answered by the data available. Document the question you want to explore below. Your investigation should involve at least two variables and should compare at least two groups. You should also use at least one visualization as part of your explorations.\n",
    "\n",
    "**Answer**: Replace this text with your responses and include a visualization below!                                ##"
   ]
  },
  {
   "cell_type": "markdown",
   "metadata": {},
   "source": [
    "### Analysis of monthly ridership in New York City"
   ]
  },
  {
   "cell_type": "code",
   "execution_count": 27,
   "metadata": {
    "collapsed": true
   },
   "outputs": [],
   "source": [
    "def station_id(datum, city):\n",
    "    \"\"\"\n",
    "    Takes as input a dictionary containing info about a single trip (datum) \n",
    "    and returns the station id where the trip originated.\n",
    "    \n",
    "    \"\"\"\n",
    "        \n",
    "    if city == 'NYC':\n",
    "        station_id = datum['start station id']\n",
    "    return station_id\n"
   ]
  },
  {
   "cell_type": "code",
   "execution_count": 28,
   "metadata": {
    "collapsed": true
   },
   "outputs": [],
   "source": [
    "def condense_NYC(in_file, out_file, city):\n",
    "    \"\"\"\n",
    "    This function takes full data from the NYC input file\n",
    "    and writes the condensed data to a specified output file. \n",
    "    It also includes the station_id information.\n",
    "    \n",
    "    \"\"\"\n",
    "    \n",
    "    with open(out_file, 'w') as f_out, open(in_file, 'r') as f_in:\n",
    "        \n",
    "        # set up csv DictWriter object - writer requires column names for the\n",
    "        # first row as the \"fieldnames\" argument\n",
    "        out_colnames = ['duration', 'month', 'hour', 'day_of_week', 'station_id','user_type']        \n",
    "        trip_writer = csv.DictWriter(f_out, fieldnames = out_colnames)\n",
    "        trip_writer.writeheader()\n",
    "        \n",
    "        ## TODO: set up csv DictReader object ##\n",
    "        trip_reader = csv.DictReader(f_in)\n",
    "\n",
    "        # collect data from and process each row\n",
    "        for row in trip_reader:\n",
    "            # set up a dictionary to hold the values for the cleaned and trimmed\n",
    "            # data point\n",
    "            new_point = {}\n",
    "\n",
    "            ## TODO: use the helper functions to get the cleaned data from  ##\n",
    "            ## the original data dictionaries.                              ##\n",
    "            ## Note that the keys for the new_point dictionary should match ##\n",
    "            ## the column names set in the DictWriter object above.         ##\n",
    "            \n",
    "            new_point['duration'] = round(duration_in_mins(row, city),2)\n",
    "            new_point['month'] = time_of_trip(row, city)[0]\n",
    "            new_point['hour'] = time_of_trip(row, city)[1]\n",
    "            new_point['day_of_week'] = time_of_trip(row, city)[2]\n",
    "            new_point['station_id'] = station_id(row, city)\n",
    "            new_point['user_type'] = type_of_user(row, city)\n",
    "        \n",
    "\n",
    "            ## TODO: write the processed information to the output file.     ##\n",
    "            ## see https://docs.python.org/3/library/csv.html#writer-objects ##\n",
    "            \n",
    "            trip_writer.writerow(new_point)\n",
    "            "
   ]
  },
  {
   "cell_type": "code",
   "execution_count": 29,
   "metadata": {
    "collapsed": true
   },
   "outputs": [],
   "source": [
    "in_file_NYC = './data/NYC-CitiBike-2016.csv'\n",
    "out_file_NYC = './data/NYC-2016-MyAnalysis.csv'\n",
    "\n",
    "condense_NYC(in_file_NYC, out_file_NYC, 'NYC')"
   ]
  },
  {
   "cell_type": "code",
   "execution_count": 30,
   "metadata": {
    "collapsed": true
   },
   "outputs": [],
   "source": [
    "def monthly_trips(month):\n",
    "    \"\"\"\n",
    "    This function reads in a file with trip data in NYC and reports the number of\n",
    "    trips made by subscribers, customers, and total overall during a given month.\n",
    "    \"\"\"\n",
    "    with open(out_file_NYC, 'r') as f_in:\n",
    "        # set up csv reader object\n",
    "        reader = csv.DictReader(f_in)\n",
    "        \n",
    "        # initialize count variables\n",
    "        \n",
    "        n_tripsSub = 0\n",
    "        n_tripsCust = 0\n",
    "        \n",
    "        # tally up ride types for the given month\n",
    "        for row in reader:\n",
    "            if row['month'] == month and row['user_type'] == 'Subscriber':\n",
    "                n_tripsSub += 1\n",
    "            if row['month'] == month and row['user_type'] == 'Customer':\n",
    "                n_tripsCust += 1\n",
    "                \n",
    "        # compute total number of rides\n",
    "        n_trips = n_tripsSub + n_tripsCust\n",
    "        \n",
    "        # return tallies as a tuple\n",
    "        return(n_tripsSub, n_tripsCust, n_trips)"
   ]
  },
  {
   "cell_type": "code",
   "execution_count": 31,
   "metadata": {
    "collapsed": true
   },
   "outputs": [],
   "source": [
    "months = ['1', '2', '3', '4', '5', '6', '7', '8', '9', '10', '11', '12']\n",
    "\n",
    "### the number of rides, sorted by month\n",
    "### create empty lists to save the data in\n",
    "\n",
    "by_month_Sub = [] ### for the Subscribers\n",
    "by_month_Cust = [] ### for the Customers, i.e. short term users\n",
    "by_month_all = [] ### all riders, by month\n",
    "\n",
    "for entry in months:\n",
    "    by_month_Sub.append(monthly_trips(entry)[0])\n",
    "    by_month_Cust.append(monthly_trips(entry)[1])\n",
    "    by_month_all.append(monthly_trips(entry)[2])"
   ]
  },
  {
   "cell_type": "code",
   "execution_count": 32,
   "metadata": {},
   "outputs": [
    {
     "data": {
      "image/png": "[encoded data removed]",
      "text/plain": [
       "<matplotlib.figure.Figure at 0x7f942a2296a0>"
      ]
     },
     "metadata": {},
     "output_type": "display_data"
    }
   ],
   "source": [
    "### display two bar charts for the distributions of trips taken by the two groups of riders,\n",
    "### sorted by month, on the same figure\n",
    "\n",
    "import numpy as np ## package to facilitate work with n-arrays\n",
    "month=('Jan','Feb','March','April','May','June','July','Aug','Sept','Oct','Nov','Dec')\n",
    "\n",
    "### set the number of bars \n",
    "N = 12\n",
    "\n",
    "ind = np.arange(N)  # the x locations for the groups\n",
    "width = 0.50        # the width of the bars\n",
    "\n",
    "plt.figure(figsize=(20, 10), dpi=40, linewidth=2, frameon=True)\n",
    "p1 = plt.bar(ind, by_month_Sub, width)\n",
    "p2 = plt.bar(ind, by_month_Cust, width, bottom=by_month_Sub)\n",
    "\n",
    "\n",
    "plt.title('\\n Distribution of rides per month and by rider type \\n', fontsize=32)\n",
    "\n",
    "### beautify the x-labels\n",
    "plt.gcf().autofmt_xdate()\n",
    "plt.xticks(ind, month, fontsize = 20) \n",
    "\n",
    "plt.ylabel('Number of rides', fontsize=25)\n",
    "\n",
    "plt.yticks(fontsize=20)\n",
    "plt.legend((p1[0], p2[0]), ('Subscribers', 'Customers'), fontsize=20)\n",
    "\n",
    "plt.show()"
   ]
  },
  {
   "cell_type": "code",
   "execution_count": 33,
   "metadata": {},
   "outputs": [
    {
     "data": {
      "text/html": [
       "<div>\n",
       "<style>\n",
       "    .dataframe thead tr:only-child th {\n",
       "        text-align: right;\n",
       "    }\n",
       "\n",
       "    .dataframe thead th {\n",
       "        text-align: left;\n",
       "    }\n",
       "\n",
       "    .dataframe tbody tr th {\n",
       "        vertical-align: top;\n",
       "    }\n",
       "</style>\n",
       "<table border=\"1\" class=\"dataframe\">\n",
       "  <thead>\n",
       "    <tr style=\"text-align: right;\">\n",
       "      <th></th>\n",
       "      <th>Month</th>\n",
       "      <th>Subscribers</th>\n",
       "      <th>Customers</th>\n",
       "      <th>All Riders</th>\n",
       "    </tr>\n",
       "  </thead>\n",
       "  <tbody>\n",
       "    <tr>\n",
       "      <th>0</th>\n",
       "      <td>Jan</td>\n",
       "      <td>9692</td>\n",
       "      <td>488</td>\n",
       "      <td>10180</td>\n",
       "    </tr>\n",
       "    <tr>\n",
       "      <th>1</th>\n",
       "      <td>Feb</td>\n",
       "      <td>10601</td>\n",
       "      <td>569</td>\n",
       "      <td>11170</td>\n",
       "    </tr>\n",
       "    <tr>\n",
       "      <th>2</th>\n",
       "      <td>March</td>\n",
       "      <td>16535</td>\n",
       "      <td>1878</td>\n",
       "      <td>18413</td>\n",
       "    </tr>\n",
       "    <tr>\n",
       "      <th>3</th>\n",
       "      <td>April</td>\n",
       "      <td>17528</td>\n",
       "      <td>2632</td>\n",
       "      <td>20160</td>\n",
       "    </tr>\n",
       "    <tr>\n",
       "      <th>4</th>\n",
       "      <td>May</td>\n",
       "      <td>21246</td>\n",
       "      <td>3209</td>\n",
       "      <td>24455</td>\n",
       "    </tr>\n",
       "    <tr>\n",
       "      <th>5</th>\n",
       "      <td>June</td>\n",
       "      <td>26106</td>\n",
       "      <td>3136</td>\n",
       "      <td>29242</td>\n",
       "    </tr>\n",
       "    <tr>\n",
       "      <th>6</th>\n",
       "      <td>July</td>\n",
       "      <td>23545</td>\n",
       "      <td>3977</td>\n",
       "      <td>27522</td>\n",
       "    </tr>\n",
       "    <tr>\n",
       "      <th>7</th>\n",
       "      <td>Aug</td>\n",
       "      <td>26692</td>\n",
       "      <td>4412</td>\n",
       "      <td>31104</td>\n",
       "    </tr>\n",
       "    <tr>\n",
       "      <th>8</th>\n",
       "      <td>Sept</td>\n",
       "      <td>28306</td>\n",
       "      <td>4393</td>\n",
       "      <td>32699</td>\n",
       "    </tr>\n",
       "    <tr>\n",
       "      <th>9</th>\n",
       "      <td>Oct</td>\n",
       "      <td>28139</td>\n",
       "      <td>3006</td>\n",
       "      <td>31145</td>\n",
       "    </tr>\n",
       "    <tr>\n",
       "      <th>10</th>\n",
       "      <td>Nov</td>\n",
       "      <td>22109</td>\n",
       "      <td>1799</td>\n",
       "      <td>23908</td>\n",
       "    </tr>\n",
       "    <tr>\n",
       "      <th>11</th>\n",
       "      <td>Dec</td>\n",
       "      <td>15397</td>\n",
       "      <td>686</td>\n",
       "      <td>16083</td>\n",
       "    </tr>\n",
       "  </tbody>\n",
       "</table>\n",
       "</div>"
      ],
      "text/plain": [
       "    Month  Subscribers  Customers  All Riders\n",
       "0     Jan         9692        488       10180\n",
       "1     Feb        10601        569       11170\n",
       "2   March        16535       1878       18413\n",
       "3   April        17528       2632       20160\n",
       "4     May        21246       3209       24455\n",
       "5    June        26106       3136       29242\n",
       "6    July        23545       3977       27522\n",
       "7     Aug        26692       4412       31104\n",
       "8    Sept        28306       4393       32699\n",
       "9     Oct        28139       3006       31145\n",
       "10    Nov        22109       1799       23908\n",
       "11    Dec        15397        686       16083"
      ]
     },
     "execution_count": 33,
     "metadata": {},
     "output_type": "execute_result"
    }
   ],
   "source": [
    "### use pandas package to save the entries in the three lists \n",
    "### (by_month_Sub, by_month_Cust, by_month_all) as a data frame \n",
    "### and to print it as a table\n",
    "\n",
    "import pandas as pd\n",
    "\n",
    "monthly_data = {'Month': month, 'Subscribers': by_month_Sub, 'Customers': by_month_Cust,\n",
    "        'All Riders': by_month_all}\n",
    "df_month = pd.DataFrame(monthly_data, columns = ['Month', 'Subscribers', 'Customers', 'All Riders'])\n",
    "df_month"
   ]
  },
  {
   "cell_type": "code",
   "execution_count": 34,
   "metadata": {},
   "outputs": [
    {
     "name": "stdout",
     "output_type": "stream",
     "text": [
      "Maximum ridership for Subscribers:\n",
      "\n",
      "Month           Sept\n",
      "Subscribers    28306\n",
      "Customers       4393\n",
      "All Riders     32699\n",
      "Name: 8, dtype: object\n",
      "\n",
      "Minimum ridership for Subscribers:\n",
      "\n",
      "Month            Jan\n",
      "Subscribers     9692\n",
      "Customers        488\n",
      "All Riders     10180\n",
      "Name: 0, dtype: object\n",
      "\n",
      "Maximum ridership for Customers:\n",
      "\n",
      "Month            Aug\n",
      "Subscribers    26692\n",
      "Customers       4412\n",
      "All Riders     31104\n",
      "Name: 7, dtype: object\n",
      "\n",
      "Minimum ridership for Customers:\n",
      "\n",
      "Month            Jan\n",
      "Subscribers     9692\n",
      "Customers        488\n",
      "All Riders     10180\n",
      "Name: 0, dtype: object\n"
     ]
    }
   ],
   "source": [
    "### print maximum and minimum values and the corresponding months they occur in\n",
    "\n",
    "print('Maximum ridership for Subscribers:\\n')\n",
    "print(df_month.loc[df_month['Subscribers'].idxmax()])\n",
    "\n",
    "print(\"\")\n",
    "print('Minimum ridership for Subscribers:\\n')\n",
    "print(df_month.loc[df_month['Subscribers'].idxmin()])\n",
    "\n",
    "print(\"\")\n",
    "print('Maximum ridership for Customers:\\n')\n",
    "print(df_month.loc[df_month['Customers'].idxmax()])\n",
    "\n",
    "print(\"\")\n",
    "print('Minimum ridership for Customers:\\n')\n",
    "print(df_month.loc[df_month['Customers'].idxmin()])"
   ]
  },
  {
   "cell_type": "markdown",
   "metadata": {},
   "source": [
    "#### Remarks:\n",
    "\n",
    "From the stacked bar charts combined with the numerical data we notice a direct correlation between the month and the number of rides. The lowest ridership rates, for both group of riders are in January (followed by February and December). This is not surprising, if we take into account the low temperatures and the higher probability of precipitations during these months. \n",
    "\n",
    "Regarding the Subscribers, there is a steady increase in the ridership from January to June, a drop in July and another steady increase to October. The Subscribers' ridership reaches its highest value in September. \n",
    "\n",
    "The Customers' ridership sees a sharp increase from February to March, the ridership triples during this period.\n",
    "\n",
    "Starting in March, there is a relatively steady increase till August, when the ridership reaches its peak. The Customers' ridership in September is similar to the one in August. There is a significant drop from $1799$ rides in November to $686$ rides in December. Similar to the Subscribers the two last months of the year see higher ridership rates than the first two months of the year."
   ]
  },
  {
   "cell_type": "code",
   "execution_count": 35,
   "metadata": {},
   "outputs": [
    {
     "name": "stdout",
     "output_type": "stream",
     "text": [
      "Maximum ridership for all riders:\n",
      "\n",
      "Month           Sept\n",
      "Subscribers    28306\n",
      "Customers       4393\n",
      "All Riders     32699\n",
      "Name: 8, dtype: object\n",
      "\n",
      "Minimum ridership for all riders:\n",
      "\n",
      "Month            Jan\n",
      "Subscribers     9692\n",
      "Customers        488\n",
      "All Riders     10180\n",
      "Name: 0, dtype: object\n"
     ]
    }
   ],
   "source": [
    "print('Maximum ridership for all riders:\\n')\n",
    "print(df_month.loc[df_month['All Riders'].idxmax()])\n",
    "\n",
    "print(\"\")\n",
    "print('Minimum ridership for all riders:\\n')\n",
    "print(df_month.loc[df_month['All Riders'].idxmin()])"
   ]
  },
  {
   "cell_type": "markdown",
   "metadata": {},
   "source": [
    "**Remarks:**\n",
    "\n",
    "Overall, in January we see the lowest ridership rates, while the highest rate is in September.\n",
    "\n",
    "Regarding the ratios between the Subscribers and Customers, a line chart is provided below. We notice a significant decrease in ratios from February to March and a sharp increase from November to December. These suggest that the Subscribers use the service more regularly, in particular during the colder months. The line chart (combined with information from the monthly data) indicates that the numbers of Customers encounter larger variations with the season than the Subscribers."
   ]
  },
  {
   "cell_type": "code",
   "execution_count": 36,
   "metadata": {},
   "outputs": [
    {
     "data": {
      "image/png": "[encoded data removed]",
      "text/plain": [
       "<matplotlib.figure.Figure at 0x7f9425df0828>"
      ]
     },
     "metadata": {},
     "output_type": "display_data"
    }
   ],
   "source": [
    "### organize the data as n-arrays\n",
    "a=np.array(by_month_Sub, dtype=np.float)\n",
    "b=np.array(by_month_Cust, dtype=np.float)\n",
    "### compute the ratios of number of rides for Subscribers and Customers for each month\n",
    "c= a/b\n",
    "\n",
    "### create the figure in which the line chart will be drawn\n",
    "plt.figure(figsize=(20, 10), dpi=40, linewidth=2, frameon=True)\n",
    "plt.plot(c)\n",
    "\n",
    "plt.title('\\n Ratios Subscribers vs. Customers per Month \\n', fontsize=32)\n",
    "\n",
    "### beautify the x-labels \n",
    "plt.gcf().autofmt_xdate()\n",
    "plt.xticks(ind, month, fontsize = 20) \n",
    "\n",
    "### the y-labels \n",
    "plt.ylabel('Ratios', fontsize=25)\n",
    "plt.yticks(fontsize=20)\n",
    "\n",
    "plt.show()"
   ]
  },
  {
   "cell_type": "markdown",
   "metadata": {},
   "source": [
    "### Ridership by the day of the week for a specific station in New York City"
   ]
  },
  {
   "cell_type": "code",
   "execution_count": 37,
   "metadata": {
    "collapsed": true
   },
   "outputs": [],
   "source": [
    "def one_station(stationID):\n",
    "    \"\"\"\n",
    "    This function reads in a file with trip data in NYC and retains only \n",
    "    the information for a specific station.\n",
    "    \"\"\"\n",
    "    with open(out_file_NYC, 'r') as f_in:\n",
    "        # set up csv reader object\n",
    "        reader = csv.DictReader(f_in)\n",
    "        \n",
    "        # create an empty list\n",
    "        station = []\n",
    "        \n",
    "        # save the entries corresponding to the given station\n",
    "        for row in reader:\n",
    "            if row['station_id'] == stationID:\n",
    "                station.append(row)\n",
    "                \n",
    "        # return a list of entries\n",
    "        return station"
   ]
  },
  {
   "cell_type": "code",
   "execution_count": 38,
   "metadata": {
    "collapsed": true
   },
   "outputs": [],
   "source": [
    "def daily_trips(day, stationID):\n",
    "    \"\"\"\n",
    "    This function reads the data from a list and reports the number of\n",
    "    trips made by subscribers, customers, and the total number of rides\n",
    "    for a given day of the week.\n",
    "    \"\"\"\n",
    "    \n",
    "    # initialize count variables\n",
    "    m_tripsSub = 0\n",
    "    m_tripsCust = 0\n",
    "        \n",
    "    # tally up ride types for the given day\n",
    "    for entry in one_station(stationID):\n",
    "        if entry['day_of_week'] == day and entry['user_type'] == 'Subscriber':\n",
    "            m_tripsSub += 1\n",
    "        if entry['day_of_week'] == day and entry['user_type'] == 'Customer':\n",
    "            m_tripsCust += 1\n",
    "                \n",
    "    # compute total number of rides\n",
    "    m_trips = m_tripsSub + m_tripsCust\n",
    "        \n",
    "    # return tallies as a tuple\n",
    "    return(m_tripsSub, m_tripsCust, m_trips)"
   ]
  },
  {
   "cell_type": "code",
   "execution_count": 39,
   "metadata": {
    "collapsed": true
   },
   "outputs": [],
   "source": [
    "days = ['Monday', 'Tuesday', 'Wednesday', 'Thursday', 'Friday', 'Saturday', 'Sunday']\n",
    "\n",
    "### create three lists, each containing the number of rides, sorted by day\n",
    "### for the station 359\n",
    "\n",
    "by_day_Sub = [] ### for the Subscribers\n",
    "by_day_Cust = [] ### for the Customers, i.e. short term users\n",
    "by_day_all = [] ### all riders, by day\n",
    "for entry in days:\n",
    "    by_day_Sub.append(daily_trips(entry,'359')[0])\n",
    "    by_day_Cust.append(daily_trips(entry,'359')[1])\n",
    "    by_day_all.append(daily_trips(entry,'359')[2])"
   ]
  },
  {
   "cell_type": "code",
   "execution_count": 40,
   "metadata": {},
   "outputs": [
    {
     "name": "stdout",
     "output_type": "stream",
     "text": [
      "\n",
      " Daily Riderships for StationId = 359 in NYC \n",
      "\n"
     ]
    },
    {
     "data": {
      "text/html": [
       "<div>\n",
       "<style>\n",
       "    .dataframe thead tr:only-child th {\n",
       "        text-align: right;\n",
       "    }\n",
       "\n",
       "    .dataframe thead th {\n",
       "        text-align: left;\n",
       "    }\n",
       "\n",
       "    .dataframe tbody tr th {\n",
       "        vertical-align: top;\n",
       "    }\n",
       "</style>\n",
       "<table border=\"1\" class=\"dataframe\">\n",
       "  <thead>\n",
       "    <tr style=\"text-align: right;\">\n",
       "      <th></th>\n",
       "      <th>Day</th>\n",
       "      <th>Subscribers</th>\n",
       "      <th>Customers</th>\n",
       "      <th>All Riders</th>\n",
       "    </tr>\n",
       "  </thead>\n",
       "  <tbody>\n",
       "    <tr>\n",
       "      <th>0</th>\n",
       "      <td>Monday</td>\n",
       "      <td>262</td>\n",
       "      <td>3</td>\n",
       "      <td>265</td>\n",
       "    </tr>\n",
       "    <tr>\n",
       "      <th>1</th>\n",
       "      <td>Tuesday</td>\n",
       "      <td>284</td>\n",
       "      <td>8</td>\n",
       "      <td>292</td>\n",
       "    </tr>\n",
       "    <tr>\n",
       "      <th>2</th>\n",
       "      <td>Wednesday</td>\n",
       "      <td>297</td>\n",
       "      <td>7</td>\n",
       "      <td>304</td>\n",
       "    </tr>\n",
       "    <tr>\n",
       "      <th>3</th>\n",
       "      <td>Thursday</td>\n",
       "      <td>310</td>\n",
       "      <td>2</td>\n",
       "      <td>312</td>\n",
       "    </tr>\n",
       "    <tr>\n",
       "      <th>4</th>\n",
       "      <td>Friday</td>\n",
       "      <td>231</td>\n",
       "      <td>6</td>\n",
       "      <td>237</td>\n",
       "    </tr>\n",
       "    <tr>\n",
       "      <th>5</th>\n",
       "      <td>Saturday</td>\n",
       "      <td>26</td>\n",
       "      <td>23</td>\n",
       "      <td>49</td>\n",
       "    </tr>\n",
       "    <tr>\n",
       "      <th>6</th>\n",
       "      <td>Sunday</td>\n",
       "      <td>23</td>\n",
       "      <td>14</td>\n",
       "      <td>37</td>\n",
       "    </tr>\n",
       "  </tbody>\n",
       "</table>\n",
       "</div>"
      ],
      "text/plain": [
       "         Day  Subscribers  Customers  All Riders\n",
       "0     Monday          262          3         265\n",
       "1    Tuesday          284          8         292\n",
       "2  Wednesday          297          7         304\n",
       "3   Thursday          310          2         312\n",
       "4     Friday          231          6         237\n",
       "5   Saturday           26         23          49\n",
       "6     Sunday           23         14          37"
      ]
     },
     "execution_count": 40,
     "metadata": {},
     "output_type": "execute_result"
    }
   ],
   "source": [
    "### create a data frame with the information for the station 359\n",
    "### and print it in table format\n",
    "\n",
    "print('\\n Daily Riderships for StationId = 359 in NYC \\n')\n",
    "\n",
    "daily_data = {'Day': days,'Subscribers': by_day_Sub,'Customers': by_day_Cust,\n",
    "        'All Riders': by_day_all}\n",
    "df_day = pd.DataFrame(daily_data, columns = ['Day', 'Subscribers', 'Customers', 'All Riders'])\n",
    "df_day"
   ]
  },
  {
   "cell_type": "code",
   "execution_count": 41,
   "metadata": {},
   "outputs": [
    {
     "data": {
      "image/png": "[encoded data removed]",
      "text/plain": [
       "<matplotlib.figure.Figure at 0x7f9425dcc128>"
      ]
     },
     "metadata": {},
     "output_type": "display_data"
    }
   ],
   "source": [
    "### create side by side bar charts for daily riderships for Subscribers and Customers\n",
    "### for the station 359 in NYC\n",
    "\n",
    "N = 7\n",
    "indx = np.arange(N)  # the x locations for the groups\n",
    "width = 0.35       # the width of the bars\n",
    "\n",
    "\n",
    "plt.figure(figsize=(20, 14), dpi=40, linewidth=2, frameon=True)\n",
    "\n",
    "ax=plt.subplot(1,1,1)\n",
    "p1 = ax.bar(indx, by_day_Sub, width)\n",
    "p2 = ax.bar(indx + width, by_day_Cust, width)\n",
    "\n",
    "# add some text for labels, title and axes ticks\n",
    "\n",
    "plt.title('\\n Ridership by day of the week for station 359 \\n', fontsize=36)\n",
    "\n",
    "plt.ylabel('Daily Ridership', fontsize=25)\n",
    "plt.yticks(fontsize=20)\n",
    "\n",
    "### beautify the x-labels\n",
    "plt.gcf().autofmt_xdate()\n",
    "plt.xticks(indx, days, fontsize=20)\n",
    "\n",
    "plt.legend((p1[0], p2[0]), ('Subscribers', 'Customers'), fontsize=20)\n",
    "\n",
    "def info_label(chart): ### adapted from a code on StackOverflow\n",
    "    \"\"\"\n",
    "    Attach a text label above each bar displaying its height\n",
    "    \"\"\"\n",
    "    for bar in chart:\n",
    "        height = bar.get_height()\n",
    "        plt.text(bar.get_x() + bar.get_width()/2., 1.02*height,\n",
    "                 '%d' % int(height),\n",
    "                ha='center', va='bottom', fontsize=20),\n",
    "        \n",
    "\n",
    "info_label(p1)\n",
    "info_label(p2)\n",
    "\n",
    "plt.show()\n"
   ]
  },
  {
   "cell_type": "markdown",
   "metadata": {},
   "source": [
    "#### Comments:\n",
    "\n",
    "The ridership distribution per day for station 359 in New York City is analyzed. The number of Subscribers exceeds by far the number of Customers (short term users) during the weekdays.\n",
    "\n",
    "The Subscribers prefer the weekdays, with a highest value on Thursday and a lowest ridership rate on Friday. The number of Subscribers that use the service on a Saturday or a Sunday, is about $10 \\%$ of the number of such riders on a weekday. At this level the numbers of Subscribers and Customers that ride on weekends are very close (especially on a Saturday).\n",
    "\n",
    "On the other side, there are about three to four times as many Customers riding on each day of the weekend as they are on a weekday."
   ]
  },
  {
   "cell_type": "markdown",
   "metadata": {},
   "source": [
    "<a id='conclusions'></a>\n",
    "## Conclusions\n",
    "\n",
    "Congratulations on completing the project! This is only a sampling of the data analysis process: from generating questions, wrangling the data, and to exploring the data. Normally, at this point in the data analysis process, you might want to draw conclusions about the data by performing a statistical test or fitting the data to a model for making predictions. There are also a lot of potential analyses that could be performed on the data which are not possible with only the data provided. For example, detailed location data has not been investigated. Where are the most commonly used docks? What are the most common routes? As another example, weather has potential to have a large impact on daily ridership. How much is ridership impacted when there is rain or snow? Are subscribers or customers affected more by changes in weather?"
   ]
  },
  {
   "cell_type": "markdown",
   "metadata": {
    "collapsed": true
   },
   "source": [
    "### **Question 7**: \n",
    "\n",
    "Putting the bike share data aside, think of a topic or field of interest where you would like to be able to apply the techniques of data science. What would you like to be able to learn from your chosen subject?\n",
    "\n",
    "**Answer**: \n",
    "\n",
    "In my work as a research mathematician I use graphs to study complex algebraic structures. This explains my keen interest in artificial neural networks and related algorithms to analyse big data. In particular, I would like to study information flow through artificial neural networks."
   ]
  },
  {
   "cell_type": "markdown",
   "metadata": {},
   "source": [
    "> **Tip**: If we want to share the results of our analysis with others, we aren't limited to giving them a copy of the jupyter Notebook (.ipynb) file. We can also export the Notebook output in a form that can be opened even for those without Python installed. From the **File** menu in the upper left, go to the **Download as** submenu. You can then choose a different format that can be viewed more generally, such as HTML (.html) or\n",
    "PDF (.pdf). You may need additional packages or software to perform these exports."
   ]
  }
 ],
 "metadata": {
  "anaconda-cloud": {},
  "kernelspec": {
   "display_name": "Python 3",
   "language": "python",
   "name": "python3"
  },
  "language_info": {
   "codemirror_mode": {
    "name": "ipython",
    "version": 3
   },
   "file_extension": ".py",
   "mimetype": "text/x-python",
   "name": "python",
   "nbconvert_exporter": "python",
   "pygments_lexer": "ipython3",
   "version": "3.6.1"
  }
 },
 "nbformat": 4,
 "nbformat_minor": 1
}
